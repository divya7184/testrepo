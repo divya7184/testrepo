{
 "cells": [
  {
   "cell_type": "markdown",
   "id": "d809ea01-1466-40f5-93c0-2808b052f875",
   "metadata": {
    "tags": []
   },
   "source": [
    "# Data science Tools and Ecosystem"
   ]
  },
  {
   "cell_type": "markdown",
   "id": "8b904a28-d294-4f13-924b-7a45c7007506",
   "metadata": {
    "tags": []
   },
   "source": [
    "'In this notebook, Data Science Tools and Ecosystem are summarized'"
   ]
  },
  {
   "cell_type": "markdown",
   "id": "8518e1e8-fe6d-4a7e-aa38-5a58d894dbbf",
   "metadata": {
    "tags": []
   },
   "source": [
    "\"Some of the popular languages that Data Scientists use are:Python,R,SQL,Scala\""
   ]
  },
  {
   "cell_type": "markdown",
   "id": "b23893ae-98de-4e9f-81bd-83aed0a17c8a",
   "metadata": {
    "tags": []
   },
   "source": [
    "\"Some of the commonly used libraries used by Data Scientists include: Numpy,Pandas,Seaborn,Matplotlib\""
   ]
  },
  {
   "cell_type": "markdown",
   "id": "2877fcd3-054b-44f1-b424-20eb8e34d003",
   "metadata": {},
   "source": [
    "|  Data Science Tools |\n",
    "|  ----------------    |\n",
    "|  MySQL               |\n",
    "|  PostgreSQL          |\n",
    "|  MongoDB             |"
   ]
  },
  {
   "cell_type": "markdown",
   "id": "66739890-9ffa-4668-842c-4dd908ef75cf",
   "metadata": {
    "tags": []
   },
   "source": [
    "### Below are a few examples of evaluating arithmetic expressions in Python"
   ]
  },
  {
   "cell_type": "code",
   "execution_count": 3,
   "id": "21807715-e67e-4705-8cd4-0277254b6352",
   "metadata": {
    "tags": []
   },
   "outputs": [
    {
     "data": {
      "text/plain": [
       "17"
      ]
     },
     "execution_count": 3,
     "metadata": {},
     "output_type": "execute_result"
    }
   ],
   "source": [
    "# This a simple arithmetic expression to mutiply then add integers\n",
    "(3*4)+5"
   ]
  },
  {
   "cell_type": "code",
   "execution_count": 4,
   "id": "450cd5d7-fceb-45c0-bb4f-037c126ef1fa",
   "metadata": {
    "tags": []
   },
   "outputs": [
    {
     "data": {
      "text/plain": [
       "3.3333333333333335"
      ]
     },
     "execution_count": 4,
     "metadata": {},
     "output_type": "execute_result"
    }
   ],
   "source": [
    "#This will convert 200 minutes to hours by diving by 60\n",
    "(200/60)"
   ]
  },
  {
   "cell_type": "markdown",
   "id": "1cb4464b-a58d-4017-a54d-9459455db9a3",
   "metadata": {},
   "source": [
    "**Objectives:**\n",
    "- Python\n",
    "- R\n",
    "- Sql"
   ]
  },
  {
   "cell_type": "markdown",
   "id": "46d69d42-a797-43e5-a639-a354143311d2",
   "metadata": {
    "tags": []
   },
   "source": [
    "## Author\n",
    "'Divya'"
   ]
  }
 ],
 "metadata": {
  "kernelspec": {
   "display_name": "Python",
   "language": "python",
   "name": "conda-env-python-py"
  },
  "language_info": {
   "codemirror_mode": {
    "name": "ipython",
    "version": 3
   },
   "file_extension": ".py",
   "mimetype": "text/x-python",
   "name": "python",
   "nbconvert_exporter": "python",
   "pygments_lexer": "ipython3",
   "version": "3.7.12"
  }
 },
 "nbformat": 4,
 "nbformat_minor": 5
}
