{
 "cells": [
  {
   "cell_type": "code",
   "execution_count": 28,
   "id": "79b10c78-e70b-44c2-96dc-108e83016797",
   "metadata": {
    "tags": []
   },
   "outputs": [],
   "source": [
    "# Data science Tools and Ecosystem"
   ]
  },
  {
   "cell_type": "code",
   "execution_count": 29,
   "id": "de9d3b6f-9d00-4a26-9429-bbac2ffdee66",
   "metadata": {
    "tags": []
   },
   "outputs": [
    {
     "data": {
      "text/plain": [
       "'In this notebook, Data Science Tools and Ecosystem are summarized'"
      ]
     },
     "execution_count": 29,
     "metadata": {},
     "output_type": "execute_result"
    }
   ],
   "source": [
    "'In this notebook, Data Science Tools and Ecosystem are summarized'"
   ]
  },
  {
   "cell_type": "code",
   "execution_count": 30,
   "id": "53a3b144-2a61-44c1-9b66-996a100b78bb",
   "metadata": {
    "tags": []
   },
   "outputs": [
    {
     "data": {
      "text/plain": [
       "'Some of the popular languages that Data Scientists use are:Python,R,SQL,Scala'"
      ]
     },
     "execution_count": 30,
     "metadata": {},
     "output_type": "execute_result"
    }
   ],
   "source": [
    "\"Some of the popular languages that Data Scientists use are:Python,R,SQL,Scala\""
   ]
  },
  {
   "cell_type": "code",
   "execution_count": 31,
   "id": "f6df2f10-0465-4223-834b-8e3e73e6f4b2",
   "metadata": {
    "tags": []
   },
   "outputs": [
    {
     "data": {
      "text/plain": [
       "'Some of the commonly used libraries used by Data Scientists include: Numpy,Pandas,Seaborn,Matplotlib'"
      ]
     },
     "execution_count": 31,
     "metadata": {},
     "output_type": "execute_result"
    }
   ],
   "source": [
    "\"Some of the commonly used libraries used by Data Scientists include: Numpy,Pandas,Seaborn,Matplotlib\""
   ]
  },
  {
   "cell_type": "code",
   "execution_count": null,
   "id": "bb0199ca-96eb-436b-b467-914a746c6da3",
   "metadata": {},
   "outputs": [],
   "source": [
    "|  Data Science Tools |\n",
    "|  ----------------    |\n",
    "|  MySQL               |\n",
    "|  PostgreSQL          |\n",
    "|  MongoDB             |"
   ]
  },
  {
   "cell_type": "code",
   "execution_count": 32,
   "id": "14d6fd29-6744-4930-8593-d848374b48b0",
   "metadata": {
    "tags": []
   },
   "outputs": [],
   "source": [
    "### Below are a few examples of evaluating arithmetic expressions in Python"
   ]
  },
  {
   "cell_type": "code",
   "execution_count": 33,
   "id": "21807715-e67e-4705-8cd4-0277254b6352",
   "metadata": {
    "tags": []
   },
   "outputs": [
    {
     "data": {
      "text/plain": [
       "17"
      ]
     },
     "execution_count": 33,
     "metadata": {},
     "output_type": "execute_result"
    }
   ],
   "source": [
    "# This a simple arithmetic expression to mutiply then add integers\n",
    "(3*4)+5"
   ]
  },
  {
   "cell_type": "code",
   "execution_count": 34,
   "id": "450cd5d7-fceb-45c0-bb4f-037c126ef1fa",
   "metadata": {
    "tags": []
   },
   "outputs": [
    {
     "ename": "SyntaxError",
     "evalue": "invalid syntax (3687289213.py, line 1)",
     "output_type": "error",
     "traceback": [
      "\u001b[0;36m  File \u001b[0;32m\"/tmp/ipykernel_340/3687289213.py\"\u001b[0;36m, line \u001b[0;32m1\u001b[0m\n\u001b[0;31m    This will convert 200 minutes to hours by diving by 60\u001b[0m\n\u001b[0m            ^\u001b[0m\n\u001b[0;31mSyntaxError\u001b[0m\u001b[0;31m:\u001b[0m invalid syntax\n"
     ]
    }
   ],
   "source": [
    "This will convert 200 minutes to hours by diving by 60\n",
    "(200/60)"
   ]
  },
  {
   "cell_type": "code",
   "execution_count": null,
   "id": "7bca555b-30ac-4a98-862b-e332a2c138c6",
   "metadata": {},
   "outputs": [],
   "source": []
  }
 ],
 "metadata": {
  "kernelspec": {
   "display_name": "Python",
   "language": "python",
   "name": "conda-env-python-py"
  },
  "language_info": {
   "codemirror_mode": {
    "name": "ipython",
    "version": 3
   },
   "file_extension": ".py",
   "mimetype": "text/x-python",
   "name": "python",
   "nbconvert_exporter": "python",
   "pygments_lexer": "ipython3",
   "version": "3.7.12"
  }
 },
 "nbformat": 4,
 "nbformat_minor": 5
}
